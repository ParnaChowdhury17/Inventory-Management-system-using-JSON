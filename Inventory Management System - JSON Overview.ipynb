{
 "cells": [
  {
   "cell_type": "code",
   "execution_count": 90,
   "id": "e18e3d64",
   "metadata": {},
   "outputs": [],
   "source": [
    "import json"
   ]
  },
  {
   "cell_type": "code",
   "execution_count": 91,
   "id": "6224de00",
   "metadata": {},
   "outputs": [],
   "source": [
    "fd = open('Records.json', 'r')\n",
    "js = fd.read()\n",
    "fd.close()\n",
    "\n",
    "record = json.loads(js)"
   ]
  },
  {
   "cell_type": "code",
   "execution_count": 92,
   "id": "c6d4fb5e",
   "metadata": {},
   "outputs": [
    {
     "data": {
      "text/plain": [
       "{'1001': {'Price': 10, 'Name': '5 Star', 'Quantity': 200},\n",
       " '1002': {'Price': 20, 'Name': 'Bar-One', 'Quantity': 100},\n",
       " '1003': {'Price': 2, 'Name': 'Candy', 'Quantity': 1000},\n",
       " '1004': {'Price': 550, 'Name': 'Chocolate Cake', 'Quantity': 10},\n",
       " '1005': {'Price': 650, 'Name': 'Blueberry Cake', 'Quantity': 5}}"
      ]
     },
     "execution_count": 92,
     "metadata": {},
     "output_type": "execute_result"
    }
   ],
   "source": [
    "record"
   ]
  },
  {
   "cell_type": "code",
   "execution_count": null,
   "id": "53769c9f",
   "metadata": {},
   "outputs": [],
   "source": []
  },
  {
   "cell_type": "code",
   "execution_count": 93,
   "id": "44fe9922",
   "metadata": {},
   "outputs": [
    {
     "data": {
      "text/plain": [
       "{'Price': 550, 'Name': 'Chocolate Cake', 'Quantity': 10}"
      ]
     },
     "execution_count": 93,
     "metadata": {},
     "output_type": "execute_result"
    }
   ],
   "source": [
    "record['1004']"
   ]
  },
  {
   "cell_type": "code",
   "execution_count": 94,
   "id": "b18a556f",
   "metadata": {},
   "outputs": [
    {
     "name": "stdout",
     "output_type": "stream",
     "text": [
      "-----------------MENU-----------------\n",
      "\n",
      "1001  :  5 Star  |  10  |  200\n",
      "1002  :  Bar-One  |  20  |  100\n",
      "1003  :  Candy  |  2  |  1000\n",
      "1004  :  Chocolate Cake  |  550  |  10\n",
      "1005  :  Blueberry Cake  |  650  |  5\n",
      "--------------------------------------\n",
      "\n",
      "Enter product ID      : 1001\n",
      "Enter product quantity: 5\n",
      "--------------------------------------\n",
      "\n",
      "                BILL              \n",
      "\n",
      "Name                         :  5 Star\n",
      "Price                        :  Rs 10\n",
      "Quantity                     :  5\n",
      "--------------------------------------\n",
      "Billing Amount               :  Rs 50\n",
      "--------------------------------------\n"
     ]
    }
   ],
   "source": [
    "print(\"-----------------MENU-----------------\\n\")\n",
    "\n",
    "for key in record.keys(): \n",
    "    print(key, \" : \", record[key]['Name'], \" | \", record[key]['Price'], \" | \", record[key]['Quantity'])\n",
    "    \n",
    "print(\"--------------------------------------\\n\")\n",
    "\n",
    "ui_pr = str(input(\"Enter product ID      : \"))\n",
    "ui_qn = int(input(\"Enter product quantity: \"))\n",
    "    \n",
    "print(\"--------------------------------------\\n\")\n",
    "\n",
    "print(\"                BILL              \\n\");\n",
    "\n",
    "print(\"Name                         : \", record[ui_pr]['Name'])\n",
    "print(\"Price                        :  Rs\", record[ui_pr]['Price'])\n",
    "print(\"Quantity                     : \", ui_qn)\n",
    "\n",
    "print(\"--------------------------------------\")\n",
    "\n",
    "print(\"Billing Amount               :  Rs\", record[ui_pr]['Price'] * ui_qn)\n",
    "\n",
    "print(\"--------------------------------------\")\n",
    "\n",
    "record[ui_pr]['Quantity'] = record[ui_pr]['Quantity'] - ui_qn\n",
    "\n",
    "js = json.dumps(record)\n",
    "\n",
    "fd = open(\"Records.json\", 'w')\n",
    "fd.write(js)\n",
    "fd.close()\n",
    "\n"
   ]
  },
  {
   "cell_type": "code",
   "execution_count": null,
   "id": "d56acd79",
   "metadata": {},
   "outputs": [],
   "source": []
  }
 ],
 "metadata": {
  "kernelspec": {
   "display_name": "Python 3 (ipykernel)",
   "language": "python",
   "name": "python3"
  },
  "language_info": {
   "codemirror_mode": {
    "name": "ipython",
    "version": 3
   },
   "file_extension": ".py",
   "mimetype": "text/x-python",
   "name": "python",
   "nbconvert_exporter": "python",
   "pygments_lexer": "ipython3",
   "version": "3.9.7"
  }
 },
 "nbformat": 4,
 "nbformat_minor": 5
}
